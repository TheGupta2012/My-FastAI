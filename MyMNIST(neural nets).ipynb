{
 "cells": [
  {
   "cell_type": "markdown",
   "metadata": {},
   "source": [
    "# Using Neural Nets and Stochastic Gradient Descent"
   ]
  },
  {
   "cell_type": "markdown",
   "metadata": {},
   "source": [
    "- ML can be boiled down to just two basic choices ->\n",
    "## 1. Ensemble of Decision Trees(Random forests, Gradient Boosting, etc.), mainly for structured data(like a database table in most companies).\n",
    "## 2. Multi - Layered neural networks using SGD(Stochastic Gradient Descent), for unstructured data.(natural language, image data, audio signals, etc.)\n"
   ]
  },
  {
   "cell_type": "markdown",
   "metadata": {},
   "source": [
    "#  MNIST as an example to start with Neural Nets \n"
   ]
  },
  {
   "cell_type": "markdown",
   "metadata": {},
   "source": [
    "- It is a collection set of hand-written digits available on deeplearning.net.\n",
    "- Its applications are found in cheque recognition in banks and address and zipcode identification in letters and mails."
   ]
  },
  {
   "cell_type": "markdown",
   "metadata": {},
   "source": [
    "# MNIST DATA\n",
    "<img src=\"images/mnist.png\" alt=\"\" style=\"width: 50%\"/>"
   ]
  },
  {
   "cell_type": "markdown",
   "metadata": {},
   "source": [
    "- A matrix can represent an image, by creating a grid where each entry corresponds to a different pixel.\n",
    "- Each pixel is **associated with a number**, the **higher the number of the pixel, the darker the shade.**\n",
    "- **255** means the **darkest value** and **0** is the lighest cell.\n",
    "\n",
    "<img src=\"digit.gif\" alt=\"digit\" style=\"width: 45%\"/>\n",
    "  (Source: [Adam Geitgey](https://medium.com/@ageitgey/machine-learning-is-fun-part-3-deep-learning-and-convolutional-neural-networks-f40359318721))\n"
   ]
  },
  {
   "cell_type": "code",
   "execution_count": 2,
   "metadata": {},
   "outputs": [],
   "source": [
    "%load_ext autoreload\n",
    "%matplotlib inline\n",
    "%autoreload 2"
   ]
  },
  {
   "cell_type": "markdown",
   "metadata": {},
   "source": [
    "- Importing all the imports."
   ]
  },
  {
   "cell_type": "code",
   "execution_count": 3,
   "metadata": {},
   "outputs": [],
   "source": [
    "from fastai.imports import *\n",
    "from fastai.torch_imports import *\n",
    "from fastai.io import *\n",
    "from fastai.metrics import *"
   ]
  },
  {
   "cell_type": "code",
   "execution_count": 4,
   "metadata": {},
   "outputs": [],
   "source": [
    "import os\n",
    "path = 'tmp/mnist'"
   ]
  },
  {
   "cell_type": "markdown",
   "metadata": {},
   "source": [
    "- <font size =3> Pickle is a data format which is used to basically save any kind of **python object** </font>"
   ]
  },
  {
   "cell_type": "code",
   "execution_count": 5,
   "metadata": {},
   "outputs": [],
   "source": [
    "URL = 'http://deeplearning.net/data/mnist/'\n",
    "File = 'mnist.pkl.gz'\n",
    "# pkl is a PICKLE FORMAT FILE"
   ]
  },
  {
   "cell_type": "markdown",
   "metadata": {},
   "source": [
    "- load_mnist is a function which is used for the loading of the data. \n",
    "- Pickle is a format from python 2 and thus we explicitly have to provide encoding.\n",
    "- Pickle files are only exclusive of Python and you can always **pickle** your python objects."
   ]
  },
  {
   "cell_type": "code",
   "execution_count": 6,
   "metadata": {},
   "outputs": [],
   "source": [
    "def load_mnist(file):\n",
    "    return pickle.load(gzip.open(file,'rb'),encoding='latin-1')"
   ]
  },
  {
   "cell_type": "code",
   "execution_count": 20,
   "metadata": {},
   "outputs": [
    {
     "name": "stderr",
     "output_type": "stream",
     "text": [
      "mnist.pkl.gz: 16.2MB [00:02, 6.10MB/s]                            \n"
     ]
    }
   ],
   "source": [
    "get_data(URL+File,path+File)"
   ]
  },
  {
   "cell_type": "markdown",
   "metadata": {},
   "source": [
    "## Destructuring data\n",
    "- load_mnist gives back a tuple of training, validation and test data.\n",
    "- So we assign these tuples to the values x,y,x_valid,y_valid, and to **_** .\n",
    "- _ is a variable used for throwing out data we don't need.\n",
    "- **Don't call get_data repeatedly**. \n",
    "- Just start kernel with the load_mnist cell"
   ]
  },
  {
   "cell_type": "code",
   "execution_count": 7,
   "metadata": {},
   "outputs": [],
   "source": [
    "((x,y),(x_valid,y_valid),_) = load_mnist(path+File)"
   ]
  },
  {
   "cell_type": "markdown",
   "metadata": {},
   "source": [
    "- <font size =4> training data consists of **rows of size 784 and 50k rows**</font>\n",
    "- This is because they took **each of the IMAGE and concatenated each row one by one to the first row and then gave us the data**\n",
    "- So instead of a **Cube consisting of Matrix Slices we get a matrix with row elements.**"
   ]
  },
  {
   "cell_type": "code",
   "execution_count": 8,
   "metadata": {},
   "outputs": [
    {
     "data": {
      "text/plain": [
       "(numpy.ndarray, (50000, 784))"
      ]
     },
     "execution_count": 8,
     "metadata": {},
     "output_type": "execute_result"
    }
   ],
   "source": [
    "type(x),x.shape"
   ]
  },
  {
   "cell_type": "code",
   "execution_count": 9,
   "metadata": {},
   "outputs": [
    {
     "data": {
      "text/plain": [
       "(numpy.ndarray, (50000,))"
      ]
     },
     "execution_count": 9,
     "metadata": {},
     "output_type": "execute_result"
    }
   ],
   "source": [
    "type(y), y.shape"
   ]
  },
  {
   "cell_type": "code",
   "execution_count": 10,
   "metadata": {},
   "outputs": [
    {
     "data": {
      "text/plain": [
       "tuple"
      ]
     },
     "execution_count": 10,
     "metadata": {},
     "output_type": "execute_result"
    }
   ],
   "source": [
    "type(_)"
   ]
  },
  {
   "cell_type": "code",
   "execution_count": 11,
   "metadata": {},
   "outputs": [],
   "source": [
    "p=[]\n",
    "for k in x[0]:\n",
    "    if(k==0):\n",
    "        p.append(int(k))\n",
    "    else:\n",
    "        p.append(k)\n",
    "p = np.array(p)"
   ]
  },
  {
   "cell_type": "code",
   "execution_count": 12,
   "metadata": {},
   "outputs": [],
   "source": [
    "import seaborn as sns"
   ]
  },
  {
   "cell_type": "code",
   "execution_count": 13,
   "metadata": {},
   "outputs": [],
   "source": [
    "cx=[]\n",
    "cy=[]\n",
    "for i in range(28):\n",
    "    for k in range(28):\n",
    "        cx.append(i)\n",
    "        cy.append(k)\n"
   ]
  },
  {
   "cell_type": "markdown",
   "metadata": {},
   "source": [
    "## Plotting Figures"
   ]
  },
  {
   "cell_type": "code",
   "execution_count": 14,
   "metadata": {},
   "outputs": [
    {
     "data": {
      "text/plain": [
       "<matplotlib.image.AxesImage at 0x7efc581cc048>"
      ]
     },
     "execution_count": 14,
     "metadata": {},
     "output_type": "execute_result"
    },
    {
     "data": {
      "image/png": "[encoded data removed]",
      "text/plain": [
       "<Figure size 432x288 with 1 Axes>"
      ]
     },
     "metadata": {
      "needs_background": "light"
     },
     "output_type": "display_data"
    }
   ],
   "source": [
    "plt.imshow(x[9].reshape(28,28),cmap = 'Reds')"
   ]
  },
  {
   "cell_type": "code",
   "execution_count": 15,
   "metadata": {},
   "outputs": [
    {
     "data": {
      "text/plain": [
       "(784,)"
      ]
     },
     "execution_count": 15,
     "metadata": {},
     "output_type": "execute_result"
    }
   ],
   "source": [
    "x[9].shape"
   ]
  },
  {
   "cell_type": "markdown",
   "metadata": {},
   "source": [
    "## My way to plot"
   ]
  },
  {
   "cell_type": "code",
   "execution_count": 18,
   "metadata": {},
   "outputs": [
    {
     "name": "stdin",
     "output_type": "stream",
     "text": [
      "Enter index : 981\n"
     ]
    },
    {
     "data": {
      "text/plain": [
       "Text(0.5, 1.0, '7')"
      ]
     },
     "execution_count": 18,
     "metadata": {},
     "output_type": "execute_result"
    },
    {
     "data": {
      "image/png": "[encoded data removed]",
      "text/plain": [
       "<Figure size 432x288 with 1 Axes>"
      ]
     },
     "metadata": {
      "needs_background": "light"
     },
     "output_type": "display_data"
    }
   ],
   "source": [
    "i = int(input(\"Enter index :\"))\n",
    "sns.scatterplot(cx,cy,size = x[i],hue = x[i],palette = 'Greys')\n",
    "plt.title(y[i])"
   ]
  },
  {
   "cell_type": "markdown",
   "metadata": {},
   "source": [
    "## ROWS\n",
    "- Deeplearning - axis 0\n",
    "- Maths - Dim 0\n",
    "\n",
    "## Columns\n",
    "- Deeplearning - axis 1\n",
    "- Maths - Dim 1\n",
    "## For image processing people or python image library columns are axis 1 and rows are axis 2\n",
    "- It returns **column x rows** for python imaging library and everything else is **rows x columns**"
   ]
  },
  {
   "cell_type": "markdown",
   "metadata": {},
   "source": [
    "## Normalize \n",
    "- Deep learning algorithms are really affected by the scale of the data and thus we should **normalize the data** that we have.\n",
    "- In this the **std. deviation becomes 1** and **mean close to 0.** "
   ]
  },
  {
   "cell_type": "code",
   "execution_count": 16,
   "metadata": {},
   "outputs": [],
   "source": [
    "mean = x.mean()\n",
    "std = x.std()"
   ]
  },
  {
   "cell_type": "markdown",
   "metadata": {},
   "source": [
    "### What are the means and standard deviations of?\n",
    "- They are the mean and std of **blackness of the pixel**"
   ]
  },
  {
   "cell_type": "code",
   "execution_count": 17,
   "metadata": {},
   "outputs": [
    {
     "data": {
      "text/plain": [
       "(0.13044983, 0.3072898, -3.1638146e-07, 0.99999934)"
      ]
     },
     "execution_count": 17,
     "metadata": {},
     "output_type": "execute_result"
    }
   ],
   "source": [
    "x = (x-mean)/std\n",
    "mean, std, x.mean(), x.std()"
   ]
  },
  {
   "cell_type": "markdown",
   "metadata": {},
   "source": [
    "- The above code shows the fact that normalization does make the mean close to zero and standard deviation close to 1 although not perfectly."
   ]
  },
  {
   "cell_type": "markdown",
   "metadata": {},
   "source": [
    "- Note that for *CONSISTENCY*, we subtract the **mean and standard deviation of training set only** from our **validation set.**\n",
    "- A number needs to **have the same meaning in all the data sets training,test and validation** "
   ]
  },
  {
   "cell_type": "code",
   "execution_count": 18,
   "metadata": {},
   "outputs": [
    {
     "data": {
      "text/plain": [
       "(-0.005850922, 0.99243325)"
      ]
     },
     "execution_count": 18,
     "metadata": {},
     "output_type": "execute_result"
    }
   ],
   "source": [
    "x_valid = (x_valid-mean)/std\n",
    "x_valid.mean(),x_valid.std()"
   ]
  },
  {
   "cell_type": "markdown",
   "metadata": {},
   "source": [
    "# Look at the data\n",
    "- Already Jeremy told that our data was compressed into a single row instead of a matrix but in actual data sets that you get is going to be compressed in some kind and thus you need to **look at the data**"
   ]
  },
  {
   "cell_type": "markdown",
   "metadata": {},
   "source": [
    "# Now we need to reshape our data.\n",
    "- We use np.reshape builtin function to reshape our array into images of 28x28 pixel size. \n",
    "- One important thing to note is that this reshape function has three sub-parameters in the size parameter.\n",
    "- The *first* one is the **number of distinct objects in your data** or you know you can leave it as -1 so that numpy figures out what dimensions are required so that the data may fit.\n",
    "- The second and third are the size of **each distinct object**"
   ]
  },
  {
   "cell_type": "code",
   "execution_count": 19,
   "metadata": {},
   "outputs": [
    {
     "data": {
      "text/plain": [
       "(10000, 28, 28)"
      ]
     },
     "execution_count": 19,
     "metadata": {},
     "output_type": "execute_result"
    }
   ],
   "source": [
    "x_images = np.reshape(x_valid,(-1,28,28))\n",
    "x_images.shape"
   ]
  },
  {
   "cell_type": "code",
   "execution_count": 20,
   "metadata": {},
   "outputs": [],
   "source": [
    "def show(image,title = None):\n",
    "    plt.imshow(image, cmap = \"magma_r\",alpha=0.8)\n",
    "    if title is not None:\n",
    "        plt.title(title, fontsize = 20)"
   ]
  },
  {
   "cell_type": "markdown",
   "metadata": {},
   "source": [
    "# A cool function to plot grids"
   ]
  },
  {
   "cell_type": "code",
   "execution_count": 21,
   "metadata": {},
   "outputs": [],
   "source": [
    "def plots(imgs,titles,rows = 3,figsize = (12,6)):\n",
    "    f = plt.figure(figsize=figsize)\n",
    "    col = len(imgs)//rows\n",
    "    for i in range(len(imgs)):\n",
    "        sp = f.add_subplot(rows,col,1+i)# i+1 is the plot number i+1\n",
    "        # add_subplot is just a way t add the sub plot\n",
    "        # (rows,col) is the size of my figure\n",
    "        # in that I am adding plot (i+1)\n",
    "        if titles[i] is not None:\n",
    "            plt.title(titles[i],fontsize = 18)\n",
    "        sp.axis('Off')\n",
    "        sp.imshow(imgs[i],cmap = 'magma_r')\n",
    "        "
   ]
  },
  {
   "cell_type": "code",
   "execution_count": 22,
   "metadata": {},
   "outputs": [
    {
     "data": {
      "image/png": "[encoded data removed]",
      "text/plain": [
       "<Figure size 864x432 with 12 Axes>"
      ]
     },
     "metadata": {
      "needs_background": "light"
     },
     "output_type": "display_data"
    }
   ],
   "source": [
    "plots(x_images[:12],titles = y_valid[:12])"
   ]
  },
  {
   "cell_type": "code",
   "execution_count": 28,
   "metadata": {},
   "outputs": [
    {
     "data": {
      "image/png": "[encoded data removed]",
      "text/plain": [
       "<Figure size 432x288 with 1 Axes>"
      ]
     },
     "metadata": {
      "needs_background": "light"
     },
     "output_type": "display_data"
    }
   ],
   "source": [
    "show(x_images[0],y_valid[0])"
   ]
  },
  {
   "cell_type": "code",
   "execution_count": 30,
   "metadata": {},
   "outputs": [
    {
     "data": {
      "image/png": "[encoded data removed]",
      "text/plain": [
       "<Figure size 864x432 with 9 Axes>"
      ]
     },
     "metadata": {
      "needs_background": "light"
     },
     "output_type": "display_data"
    }
   ],
   "source": [
    "plots(x_images[1:10],y_valid[1:10])"
   ]
  },
  {
   "cell_type": "markdown",
   "metadata": {},
   "source": [
    "# Extracting parts of Images.\n",
    "- The below code shows that you want to ->\n",
    "    - Go into the First image\n",
    "    - Take **rows [12,17) and columns [12,17)**\n",
    "    - Output just those cells for first image"
   ]
  },
  {
   "cell_type": "code",
   "execution_count": 141,
   "metadata": {},
   "outputs": [
    {
     "data": {
      "text/plain": [
       "array([[ 1.20261,  2.77889,  2.80432,  2.5755 ,  0.08396],\n",
       "       [ 2.80432,  2.80432,  1.73651,  0.31278, -0.42452],\n",
       "       [ 2.80432,  2.80432,  0.40176, -0.42452, -0.42452],\n",
       "       [ 2.80432,  2.80432,  2.76618,  1.43143, -0.09401],\n",
       "       [ 1.77465,  2.42296,  2.80432,  2.80432,  2.49923]], dtype=float32)"
      ]
     },
     "execution_count": 141,
     "metadata": {},
     "output_type": "execute_result"
    }
   ],
   "source": [
    "(x_images[0,12:17,12:17])"
   ]
  },
  {
   "cell_type": "code",
   "execution_count": 140,
   "metadata": {},
   "outputs": [
    {
     "data": {
      "image/png": "[encoded data removed]",
      "text/plain": [
       "<Figure size 432x288 with 1 Axes>"
      ]
     },
     "metadata": {
      "needs_background": "light"
     },
     "output_type": "display_data"
    }
   ],
   "source": [
    "show(x_images[0,12:17,12:17])"
   ]
  },
  {
   "cell_type": "markdown",
   "metadata": {},
   "source": [
    "# NEURAL NETS \n"
   ]
  },
  {
   "cell_type": "markdown",
   "metadata": {},
   "source": [
    "- They are basically CLASS of FUNCTIONS which can approximate functions **arbitrarily closely**\n",
    "- The functions like **ax + b** or **ax^2 + bx + c + sin(d)** can only represent a **narrow class of functions**\n",
    "- Neural Nets are infinitely flexible and can , in theory, represent **any class of functions arbitrarily closely provided we have a big enough net.**"
   ]
  },
  {
   "cell_type": "markdown",
   "metadata": {},
   "source": [
    "- Neural nets have **parameters**.\n",
    "- What we want is to figure out do I need to increase or decrease the parameter values.\n",
    "- We do this by taking the derivative of the function wrt **parameters** and looks how it changes if we change the value of the parameter.\n",
    "- Neural  nets are basically **linear layer followed by an activation followed by a linear and so on...**"
   ]
  },
  {
   "cell_type": "code",
   "execution_count": 42,
   "metadata": {},
   "outputs": [],
   "source": [
    "from fastai.imports import *\n",
    "from fastai.dataset import *\n",
    "from fastai.model import *\n",
    "from fastai.metrics import *"
   ]
  },
  {
   "cell_type": "markdown",
   "metadata": {},
   "source": [
    "# We use PyTorch\n",
    "- This a library kind of like numpy but allows GPU calculations for stuff with linear algebra(matrix multiplication)\n",
    "- The neural network functionality of PyTorch is built on top of the Numpy-like functionality for fast matrix computations on a GPU.\n",
    "- PyTorch uses the **CUDA framework by nvidia.**\n",
    "- The **.cuda()** extension is used to make the GPU do the computation that we want to do\n",
    ".\n",
    "- Note-> PyTorch is going to take the derivative of the parameters and the functions by itself, you don't have to write it explicitly."
   ]
  },
  {
   "cell_type": "code",
   "execution_count": 43,
   "metadata": {},
   "outputs": [],
   "source": [
    "import torch.nn as nn\n"
   ]
  },
  {
   "cell_type": "markdown",
   "metadata": {},
   "source": [
    "- nn is the Neural Net library.\n",
    "- nn.Sequential means that we are **providing a sequence of layers to our neural net**\n",
    "- Note that **input layer doesn't have to be explicitly mentioned in the parameters**\n",
    "- We have a Linear Layer(28x28,10) - 28x28 means the size of the **individual image** \n"
   ]
  },
  {
   "cell_type": "code",
   "execution_count": 92,
   "metadata": {},
   "outputs": [],
   "source": [
    "net = nn.Sequential(\n",
    "        nn.Linear(28*28,10), # 10 is to be given at the ending layer\n",
    "        # BECAUSE THE LAST LAYER IS THE OUTPUT\n",
    "        nn.LogSoftmax()\n",
    ").cuda()\n",
    "\n",
    "# .cuda is important to use at the end so that our computations are \n",
    "# done on the GPU"
   ]
  },
  {
   "cell_type": "markdown",
   "metadata": {},
   "source": [
    "# We are using abstraction right now, \n",
    "- Jeremy just said that look at a NEURAL NET like a thing which takes as input a vector, does a matrix product of the vector(what the matrix is we'll define later), do a non-linearity and then we are going to put that through another mat. mul until we **end up with the vector we want**.\n",
    "\n",
    "- **ReLU(Non - Linearity)**-> It is just throwing away the negative values we get from our matrix multiply(why -> we'll get to later).\n",
    "\n",
    "- **LogSoftmax** is also a non-linearity function\n",
    "- We use the output of the FINAL LAYER to generate our predictions. Often or classification problems, final layer has the same number of outputs as there are classes. In this case the number of distinct outputs are **10**: one for each digit.\n",
    "\n",
    "- These outputs can be converted to **probabilities** and the **output corresponding to the highest probability for the image is that image's label.**\n"
   ]
  },
  {
   "cell_type": "code",
   "execution_count": 93,
   "metadata": {},
   "outputs": [
    {
     "data": {
      "text/plain": [
       "(50000, 784)"
      ]
     },
     "execution_count": 93,
     "metadata": {},
     "output_type": "execute_result"
    }
   ],
   "source": [
    "x.shape"
   ]
  },
  {
   "cell_type": "code",
   "execution_count": 94,
   "metadata": {},
   "outputs": [],
   "source": [
    "md = ImageClassifierData.from_arrays(path, (x,y), (x_valid,y_valid))"
   ]
  },
  {
   "cell_type": "code",
   "execution_count": 95,
   "metadata": {},
   "outputs": [],
   "source": [
    "loss= nn.NLLLoss()\n",
    "metric = [accuracy] # accuracy is defined in fastai.metrics\n",
    "opt = optim.Adam(net.parameters())"
   ]
  },
  {
   "cell_type": "markdown",
   "metadata": {},
   "source": [
    "# Loss function - Negative Log Likelihood Loss\n",
    "- I understood it nicely I think\n",
    "- It just basically is **mean(-(y*(log(p)) + (1-y)*log(1-p)))**\n",
    "- Explanation is pdf .\n",
    "- Let us define it ourselves.\n"
   ]
  },
  {
   "cell_type": "code",
   "execution_count": 96,
   "metadata": {},
   "outputs": [],
   "source": [
    "def cross_entropy(preds,prob):\n",
    "    loss = 0\n",
    "    for i,k in zip(preds,prob):\n",
    "        if(i==1):\n",
    "            loss = loss - np.log(k)\n",
    "        else:\n",
    "            loss = loss - np.log(1-k)\n",
    "    return (loss/len(preds))"
   ]
  },
  {
   "cell_type": "markdown",
   "metadata": {},
   "source": [
    "# Example "
   ]
  },
  {
   "cell_type": "code",
   "execution_count": 97,
   "metadata": {},
   "outputs": [
    {
     "data": {
      "text/plain": [
       "0.11608094752864272"
      ]
     },
     "execution_count": 97,
     "metadata": {},
     "output_type": "execute_result"
    }
   ],
   "source": [
    "preds = [1,0,0,1]\n",
    "prob = [0.9,0.1,0.2,0.97]\n",
    "cross_entropy(preds,prob)"
   ]
  },
  {
   "cell_type": "markdown",
   "metadata": {},
   "source": [
    "<font size = 4> - As the probabilities get **closer to one**, the loss gets **closer to zero.**</font>"
   ]
  },
  {
   "cell_type": "markdown",
   "metadata": {},
   "source": [
    "# Parameters of Fit \n",
    "- Fitting is the process by which the net **learns the best parameters** \n",
    "- **net** is your Neural Net that you made\n",
    "- **crit** is just the **LOSS FUNCTION WHICH YOU WANT TO USE**\n",
    "- **metrics** is the metric you want to calculate for your neural net.\n",
    "- **opt** is the **Optimization function for your neural net**\n",
    "- **epochs** means **how many times each image goes through the neural net for prediction**"
   ]
  },
  {
   "cell_type": "code",
   "execution_count": 98,
   "metadata": {},
   "outputs": [
    {
     "data": {
      "application/vnd.jupyter.widget-view+json": {
       "model_id": "417b5c93141449d7855019fc1b2f471f",
       "version_major": 2,
       "version_minor": 0
      },
      "text/plain": [
       "HBox(children=(IntProgress(value=0, description='Epoch', max=5, style=ProgressStyle(description_width='initial…"
      ]
     },
     "metadata": {},
     "output_type": "display_data"
    },
    {
     "name": "stdout",
     "output_type": "stream",
     "text": [
      "epoch      trn_loss   val_loss   accuracy   \n",
      "    0      0.329521   0.294247   0.9142    \n",
      "    1      0.296606   0.277352   0.9223    \n",
      "    2      0.283065   0.263894   0.9271    \n",
      "    3      0.275924   0.262728   0.9282    \n",
      "    4      0.290242   0.274927   0.9238    \n",
      "\n"
     ]
    },
    {
     "data": {
      "text/plain": [
       "[array([0.27493]), 0.9238]"
      ]
     },
     "execution_count": 98,
     "metadata": {},
     "output_type": "execute_result"
    }
   ],
   "source": [
    "fit(net,md,n_epochs=5,crit = loss,metrics = metric,opt = opt)"
   ]
  },
  {
   "cell_type": "markdown",
   "metadata": {},
   "source": [
    "- The **predict** function parameters have a certain detail attached.\n",
    "- The second parameter for the **data has to be IMAGE CLASSIFIER INSTANCE** that you used to wrap up training and validation data in the variable **md**\n",
    "- So, validation data is **not x_valid** but it is **md.val_d**"
   ]
  },
  {
   "cell_type": "code",
   "execution_count": 182,
   "metadata": {},
   "outputs": [
    {
     "data": {
      "text/plain": [
       "<matplotlib.axes._subplots.AxesSubplot at 0x7efc4f63b5f8>"
      ]
     },
     "execution_count": 182,
     "metadata": {},
     "output_type": "execute_result"
    },
    {
     "data": {
      "image/png": "[encoded data removed]",
      "text/plain": [
       "<Figure size 432x288 with 1 Axes>"
      ]
     },
     "metadata": {
      "needs_background": "light"
     },
     "output_type": "display_data"
    }
   ],
   "source": []
  },
  {
   "cell_type": "markdown",
   "metadata": {},
   "source": [
    "# cuda is Fast"
   ]
  },
  {
   "cell_type": "code",
   "execution_count": 185,
   "metadata": {},
   "outputs": [
    {
     "name": "stdout",
     "output_type": "stream",
     "text": [
      "CPU times: user 3 µs, sys: 2 µs, total: 5 µs\n",
      "Wall time: 8.34 µs\n"
     ]
    },
    {
     "data": {
      "text/plain": [
       "0.9922018647193909"
      ]
     },
     "execution_count": 185,
     "metadata": {},
     "output_type": "execute_result"
    }
   ],
   "source": [
    "%time \n",
    "torch.std(torch.randn(784,10).cuda())"
   ]
  },
  {
   "cell_type": "code",
   "execution_count": 186,
   "metadata": {},
   "outputs": [
    {
     "name": "stdout",
     "output_type": "stream",
     "text": [
      "CPU times: user 4 µs, sys: 1e+03 ns, total: 5 µs\n",
      "Wall time: 9.3 µs\n"
     ]
    },
    {
     "data": {
      "text/plain": [
       "1.0018009949504516"
      ]
     },
     "execution_count": 186,
     "metadata": {},
     "output_type": "execute_result"
    }
   ],
   "source": [
    "%time\n",
    "torch.std(torch.randn(784,10))"
   ]
  },
  {
   "cell_type": "code",
   "execution_count": 124,
   "metadata": {},
   "outputs": [],
   "source": [
    "preds = predict(net,md.val_dl)"
   ]
  },
  {
   "cell_type": "code",
   "execution_count": 55,
   "metadata": {},
   "outputs": [
    {
     "data": {
      "text/plain": [
       "(10000, 10)"
      ]
     },
     "execution_count": 55,
     "metadata": {},
     "output_type": "execute_result"
    }
   ],
   "source": [
    "preds.shape"
   ]
  },
  {
   "cell_type": "markdown",
   "metadata": {},
   "source": [
    "- Prediction shape is 10000. **WHY?**\n",
    "- This is because for each image(row) we have predictions corresponding to **each number** i.e. what is the probability that it is a 1, a 2, a 3, ...\n",
    "- Now, the prediction for our row/image would be actually **the column number of maximum probability value**\n",
    "- SO, if it is like \n",
    "    - cols **1     2     3    4     5     6**\n",
    "    - row 1. 34   7    9    1    7    -9\n",
    "    - row 2. 5    6    123 -8    4    0 \n",
    "    -       . . . \n",
    "- So, from the above matrix we see, **row 1 or image 1 is predicted as 1 as COLUMN 1 has the maximum value**\n",
    "- Also, **row 2/ image 2** would be **predicted as 3 as it has the max value**\n",
    "- So, we just need the **argmax of our rows**\n",
    "- For it we do **np.argmax(preds(axis = 1))**\n"
   ]
  },
  {
   "cell_type": "code",
   "execution_count": 56,
   "metadata": {},
   "outputs": [
    {
     "data": {
      "text/plain": [
       "array([3, 8, 6, ..., 5, 6, 8])"
      ]
     },
     "execution_count": 56,
     "metadata": {},
     "output_type": "execute_result"
    }
   ],
   "source": [
    "preds.argmax(axis = 1) # axis 1 means grab the column number for each row\n"
   ]
  },
  {
   "cell_type": "code",
   "execution_count": 57,
   "metadata": {},
   "outputs": [],
   "source": [
    "preds = preds.argmax(axis = 1)"
   ]
  },
  {
   "cell_type": "markdown",
   "metadata": {},
   "source": [
    "# Accuracy\n",
    "- We can calculate the accuracy metric by ourselves.\n",
    "- Just take the preds and the validation y_values\n",
    "- The code segment **preds==y_valid** would return a list of booleans 0 or 1. When it is 1 then that means our **prediction matches the actual value**. \n",
    "- So the **total number of matches/total values** gives the accuracy"
   ]
  },
  {
   "cell_type": "code",
   "execution_count": 58,
   "metadata": {},
   "outputs": [],
   "source": [
    "l = (preds==y_valid)"
   ]
  },
  {
   "cell_type": "code",
   "execution_count": 59,
   "metadata": {},
   "outputs": [
    {
     "name": "stdout",
     "output_type": "stream",
     "text": [
      "Accuracy : 0.8501\n"
     ]
    }
   ],
   "source": [
    "match = 0\n",
    "for k in l:\n",
    "    if(k==1):\n",
    "        match+=1\n",
    "print(\"Accuracy :\",match/len(l))"
   ]
  },
  {
   "cell_type": "markdown",
   "metadata": {},
   "source": [
    "# Defining the net by ourselves\n",
    "- We need to define the function that **nn.Linear** was doing inside **nn.Sequential**.\n",
    "- Then we need to define the **LogSoftMax** non-linearity."
   ]
  },
  {
   "cell_type": "code",
   "execution_count": 86,
   "metadata": {},
   "outputs": [],
   "source": [
    "def getweights(*dims):\n",
    "    return nn.Parameter(torch.randn(dims)/dims[0])"
   ]
  },
  {
   "cell_type": "markdown",
   "metadata": {},
   "source": [
    "- torch.randn() gives **normally distributed numbers in a matrix** of the same size as the dimesions given to it"
   ]
  },
  {
   "cell_type": "code",
   "execution_count": 190,
   "metadata": {},
   "outputs": [
    {
     "data": {
      "text/plain": [
       "Text(0.5, 1.0, 'Showing the Distribution of Numbers \\nreturned by torch')"
      ]
     },
     "execution_count": 190,
     "metadata": {},
     "output_type": "execute_result"
    },
    {
     "data": {
      "image/png": "[encoded data removed]",
      "text/plain": [
       "<Figure size 432x288 with 1 Axes>"
      ]
     },
     "metadata": {
      "needs_background": "light"
     },
     "output_type": "display_data"
    }
   ],
   "source": [
    "t = (torch.randn(784,10).cuda())\n",
    "g = []\n",
    "for k in t:\n",
    "    l = k.tolist()\n",
    "    for m in l:\n",
    "        g.append(m)\n",
    "sns.kdeplot(g,shade = True,color = \"cyan\")\n",
    "plt.title(\"Showing the Distribution of Numbers \\nreturned by torch\",fontweight='bold')"
   ]
  },
  {
   "cell_type": "code",
   "execution_count": 191,
   "metadata": {},
   "outputs": [],
   "source": [
    "class LogReg(nn.Module):\n",
    "    def __init__(self): \n",
    "        super().__init__()\n",
    "        self.l1_weights = getweights(28*28,10)\n",
    "        self.l1_bias = getweights(10)\n",
    "    \n",
    "    def forward(self,x):\n",
    "        x = x.view(x.size(0),-1)\n",
    "        x = torch.matmul(x,self.l1_weights) + self.l1_bias # affine transformation\n",
    "        x = torch.log(torch.exp(x)/torch.exp(x).sum(dim=0)) # log soft max\n",
    "        return x"
   ]
  },
  {
   "cell_type": "code",
   "execution_count": 192,
   "metadata": {},
   "outputs": [],
   "source": [
    "net2 = LogReg().cuda()\n",
    "opt = optim.Adam(net2.parameters())\n"
   ]
  },
  {
   "cell_type": "code",
   "execution_count": 193,
   "metadata": {},
   "outputs": [
    {
     "data": {
      "application/vnd.jupyter.widget-view+json": {
       "model_id": "73cd8f12116c48b3b7fd8aa3759629d2",
       "version_major": 2,
       "version_minor": 0
      },
      "text/plain": [
       "HBox(children=(IntProgress(value=0, description='Epoch', max=5, style=ProgressStyle(description_width='initial…"
      ]
     },
     "metadata": {},
     "output_type": "display_data"
    },
    {
     "name": "stdout",
     "output_type": "stream",
     "text": [
      "epoch      trn_loss   val_loss   accuracy   \n",
      "    0      2.450639   2.406592   0.9094    \n",
      "    1      2.451624   2.393673   0.9099    \n",
      "    2      2.428702   2.393861   0.9125    \n",
      "    3      2.43216    2.394138   0.9112    \n",
      "    4      2.428052   2.395899   0.9093    \n",
      "\n"
     ]
    },
    {
     "data": {
      "text/plain": [
       "[array([2.3959]), 0.9093]"
      ]
     },
     "execution_count": 193,
     "metadata": {},
     "output_type": "execute_result"
    }
   ],
   "source": [
    "fit(net2,md,n_epochs = 5, crit = loss, opt = opt,metrics = metric)"
   ]
  },
  {
   "cell_type": "code",
   "execution_count": null,
   "metadata": {},
   "outputs": [],
   "source": []
  },
  {
   "cell_type": "code",
   "execution_count": null,
   "metadata": {},
   "outputs": [],
   "source": []
  }
 ],
 "metadata": {
  "kernelspec": {
   "display_name": "Python 3",
   "language": "python",
   "name": "python3"
  },
  "language_info": {
   "codemirror_mode": {
    "name": "ipython",
    "version": 3
   },
   "file_extension": ".py",
   "mimetype": "text/x-python",
   "name": "python",
   "nbconvert_exporter": "python",
   "pygments_lexer": "ipython3",
   "version": "3.6.7"
  }
 },
 "nbformat": 4,
 "nbformat_minor": 2
}
