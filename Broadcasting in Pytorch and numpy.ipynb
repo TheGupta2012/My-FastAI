{
 "cells": [
  {
   "cell_type": "code",
   "execution_count": 1,
   "metadata": {},
   "outputs": [],
   "source": [
    "import torch.nn as nn\n",
    "import torch.tensor as t\n"
   ]
  },
  {
   "cell_type": "code",
   "execution_count": 2,
   "metadata": {},
   "outputs": [],
   "source": [
    "import numpy as np, pandas as pd,math\n"
   ]
  },
  {
   "cell_type": "markdown",
   "metadata": {},
   "source": [
    "# Broadcasting \n",
    "- The way to deal with matrix or more specifically **tensor** operations.\n",
    "- It means **copying one or more axes** of our **out of shape tensor** such that it is of the **same shape of some other tensor.**\n",
    "- It is a way to **completely utilise the processing power of your gpu and cpu and a way to AVOID LOOPS.**"
   ]
  },
  {
   "cell_type": "markdown",
   "metadata": {},
   "source": [
    "- Formal definition is ->\n",
    "- Broadcasting how numpy treats arrays with different shapes during their operations.\n",
    "- The smaller arrays are \"\"**broadcast**\" to the dimensions of the larger array so that they have compatible shapes.\n",
    "- **Broadcating allows us to VECTORIZE ANY ARRAY so that the operations of looping are performed in C and not python, so it makes it faster.**\n",
    "- Numpy does this without making any copy of the data but **DEALS WITH AS THEM AS THEY ARE LIKE THE GREATER SHAPES.**"
   ]
  },
  {
   "cell_type": "markdown",
   "metadata": {},
   "source": [
    "- <font size = 3> Note that the **leading axis in DL is rows**</font>"
   ]
  },
  {
   "cell_type": "code",
   "execution_count": 139,
   "metadata": {},
   "outputs": [],
   "source": [
    "b = np.array([2,5,-9,1])\n",
    "# Vector or basically a tensor of rank(1)."
   ]
  },
  {
   "cell_type": "code",
   "execution_count": 137,
   "metadata": {},
   "outputs": [
    {
     "data": {
      "text/plain": [
       "array([False, False,  True, False])"
      ]
     },
     "execution_count": 137,
     "metadata": {},
     "output_type": "execute_result"
    }
   ],
   "source": [
    "b < 0 # 0 is called a scalar."
   ]
  },
  {
   "cell_type": "code",
   "execution_count": 5,
   "metadata": {},
   "outputs": [
    {
     "name": "stdout",
     "output_type": "stream",
     "text": [
      "If we do b>0 means we are getting an array which has teh result\n",
      " of element wise comparisons\n"
     ]
    }
   ],
   "source": [
    "print(\"If we do b>0 means we are getting an array which has teh result\\n of element wise comparisons\")"
   ]
  },
  {
   "cell_type": "markdown",
   "metadata": {},
   "source": [
    "# How are we able to do this?\n",
    "- Well we are **broadcasting** the **scalar** which is **0** and then comparing element wise with the array **b**"
   ]
  },
  {
   "cell_type": "code",
   "execution_count": 27,
   "metadata": {},
   "outputs": [
    {
     "name": "stdout",
     "output_type": "stream",
     "text": [
      "Shape of 0 : (1,)\n",
      "Shape of b : (4,)\n"
     ]
    }
   ],
   "source": [
    "print(\"Shape of 0 :\",np.array([0]).shape)\n",
    "print(\"Shape of b :\",b.shape)"
   ]
  },
  {
   "cell_type": "code",
   "execution_count": 18,
   "metadata": {},
   "outputs": [
    {
     "data": {
      "text/plain": [
       "array([0])"
      ]
     },
     "execution_count": 18,
     "metadata": {},
     "output_type": "execute_result"
    }
   ],
   "source": [
    "np.array([0])"
   ]
  },
  {
   "cell_type": "code",
   "execution_count": 208,
   "metadata": {},
   "outputs": [],
   "source": [
    "a = t([[1,2,3],[4,5,6],[7,8,9]]).cuda()"
   ]
  },
  {
   "cell_type": "code",
   "execution_count": 209,
   "metadata": {},
   "outputs": [
    {
     "data": {
      "text/plain": [
       "tensor([[ 2,  3,  4],\n",
       "        [ 5,  6,  7],\n",
       "        [ 8,  9, 10]], device='cuda:0')"
      ]
     },
     "execution_count": 209,
     "metadata": {},
     "output_type": "execute_result"
    }
   ],
   "source": [
    "a + 1"
   ]
  },
  {
   "cell_type": "markdown",
   "metadata": {},
   "source": [
    "- The above operation just make a **matrix of ones** and adds the ones to each and every element one by one.\n",
    "- [1,2,3] + [1,1,1]\n",
    "- [4,5,6] + [1,1,1]\n",
    "- [7,8,9] + [1,1,1]"
   ]
  },
  {
   "cell_type": "code",
   "execution_count": 198,
   "metadata": {},
   "outputs": [],
   "source": [
    "a = t([[1,2,3],[4,5,6],[7,8,9]]).cuda()"
   ]
  },
  {
   "cell_type": "code",
   "execution_count": 56,
   "metadata": {},
   "outputs": [
    {
     "data": {
      "text/plain": [
       "tensor([[1., 2., 3.],\n",
       "        [4., 5., 6.],\n",
       "        [7., 8., 9.]], device='cuda:0')"
      ]
     },
     "execution_count": 56,
     "metadata": {},
     "output_type": "execute_result"
    }
   ],
   "source": [
    "a.float()"
   ]
  },
  {
   "cell_type": "code",
   "execution_count": 57,
   "metadata": {},
   "outputs": [
    {
     "data": {
      "text/plain": [
       "tensor([[ 2.,  4.,  6.],\n",
       "        [ 8., 10., 12.],\n",
       "        [14., 16., 18.]], device='cuda:0')"
      ]
     },
     "execution_count": 57,
     "metadata": {},
     "output_type": "execute_result"
    }
   ],
   "source": [
    "a*float(2)"
   ]
  },
  {
   "cell_type": "markdown",
   "metadata": {},
   "source": [
    "#### Broadcasting a vector to a tensor through example\n",
    "- The vector **[10,20,30]** is made into ->\n",
    "- [10,20,30]\n",
    "- [10,20,30]\n",
    "- [10,20,30]"
   ]
  },
  {
   "cell_type": "markdown",
   "metadata": {},
   "source": [
    "## Row wise additions."
   ]
  },
  {
   "cell_type": "code",
   "execution_count": 197,
   "metadata": {},
   "outputs": [],
   "source": [
    "c = t([10,20,30]).cuda()"
   ]
  },
  {
   "cell_type": "markdown",
   "metadata": {},
   "source": [
    "## A useful function in PyTorch is \n",
    "- expand_as() , the <b> parameter is the tensor for which we are broadcasting**."
   ]
  },
  {
   "cell_type": "code",
   "execution_count": 145,
   "metadata": {},
   "outputs": [
    {
     "data": {
      "text/plain": [
       "tensor([[10, 20, 30],\n",
       "        [10, 20, 30],\n",
       "        [10, 20, 30]], device='cuda:0')"
      ]
     },
     "execution_count": 145,
     "metadata": {},
     "output_type": "execute_result"
    }
   ],
   "source": [
    "c.expand_as(a) # this is niceeee."
   ]
  },
  {
   "cell_type": "code",
   "execution_count": 60,
   "metadata": {},
   "outputs": [
    {
     "data": {
      "text/plain": [
       "tensor([10, 20, 30], device='cuda:0')"
      ]
     },
     "execution_count": 60,
     "metadata": {},
     "output_type": "execute_result"
    }
   ],
   "source": [
    "c"
   ]
  },
  {
   "cell_type": "code",
   "execution_count": 146,
   "metadata": {},
   "outputs": [
    {
     "data": {
      "text/plain": [
       "tensor([[11, 22, 33],\n",
       "        [14, 25, 36],\n",
       "        [17, 28, 39]], device='cuda:0')"
      ]
     },
     "execution_count": 146,
     "metadata": {},
     "output_type": "execute_result"
    }
   ],
   "source": [
    "a+c # To each row, C is added."
   ]
  },
  {
   "cell_type": "markdown",
   "metadata": {},
   "source": [
    "## Column wise addition.\n",
    "- For doing **column wise addition we need to pass in a MATRIX**"
   ]
  },
  {
   "cell_type": "code",
   "execution_count": 170,
   "metadata": {},
   "outputs": [],
   "source": [
    "w = t([10,20,30]).cuda()\n",
    "s = t([[10,20,30],[1,2,3]]).cuda()"
   ]
  },
  {
   "cell_type": "markdown",
   "metadata": {},
   "source": [
    "# THE None index.\n",
    "- What **None** does is add a **NEW AXIS AT THE PLACE YOU GIVE IT IN A TENSOR**\n",
    "- EXAMPLES ...\n",
    "- Note- <font size = 5>\":\"</font>can only be used the same amount of times that there are **ACTUAL AXES** in the tensor.\n",
    "- Eg. if it is a matrix, you can only use <font size = 5>\":\"</font> two times as there are **Two existing axes**"
   ]
  },
  {
   "cell_type": "code",
   "execution_count": 210,
   "metadata": {},
   "outputs": [
    {
     "data": {
      "text/plain": [
       "tensor([[10],\n",
       "        [20],\n",
       "        [30]], device='cuda:0')"
      ]
     },
     "execution_count": 210,
     "metadata": {},
     "output_type": "execute_result"
    }
   ],
   "source": [
    "w[:,None] # This means leave the contents of the first axis as\n",
    "#it is but add a UNIT AXIS after the contents."
   ]
  },
  {
   "cell_type": "code",
   "execution_count": 215,
   "metadata": {},
   "outputs": [
    {
     "data": {
      "text/plain": [
       "tensor([[11, 12, 13],\n",
       "        [24, 25, 26],\n",
       "        [37, 38, 39]], device='cuda:0')"
      ]
     },
     "execution_count": 215,
     "metadata": {},
     "output_type": "execute_result"
    }
   ],
   "source": [
    "a + w[:,None]\n",
    "# Adding w as a column"
   ]
  },
  {
   "cell_type": "code",
   "execution_count": 232,
   "metadata": {},
   "outputs": [
    {
     "data": {
      "text/plain": [
       "torch.Size([3])"
      ]
     },
     "execution_count": 232,
     "metadata": {},
     "output_type": "execute_result"
    }
   ],
   "source": [
    "w.shape"
   ]
  },
  {
   "cell_type": "code",
   "execution_count": 234,
   "metadata": {},
   "outputs": [
    {
     "data": {
      "text/plain": [
       "(3, 1)"
      ]
     },
     "execution_count": 234,
     "metadata": {},
     "output_type": "execute_result"
    }
   ],
   "source": [
    "k = np.array(w.cpu())\n",
    "k[:,None].shape"
   ]
  },
  {
   "cell_type": "code",
   "execution_count": 235,
   "metadata": {},
   "outputs": [
    {
     "name": "stdout",
     "output_type": "stream",
     "text": [
      "tensor([[10, 20, 30]], device='cuda:0')\n",
      "tensor([[10],\n",
      "        [20],\n",
      "        [30]], device='cuda:0')\n"
     ]
    },
    {
     "data": {
      "text/plain": [
       "tensor([[100, 200, 300],\n",
       "        [200, 400, 600],\n",
       "        [300, 600, 900]], device='cuda:0')"
      ]
     },
     "execution_count": 235,
     "metadata": {},
     "output_type": "execute_result"
    }
   ],
   "source": [
    "print(w[None]) # row tensor\n",
    "print(w[:,None]) # column tensor\n",
    "w[None] * w[:,None]"
   ]
  },
  {
   "cell_type": "code",
   "execution_count": 191,
   "metadata": {},
   "outputs": [
    {
     "data": {
      "text/plain": [
       "torch.Size([3, 1, 1])"
      ]
     },
     "execution_count": 191,
     "metadata": {},
     "output_type": "execute_result"
    }
   ],
   "source": [
    "(w[:,None,None].shape)"
   ]
  },
  {
   "cell_type": "code",
   "execution_count": 187,
   "metadata": {},
   "outputs": [
    {
     "name": "stdout",
     "output_type": "stream",
     "text": [
      "1 2 3\n",
      "The above dimensions are 1 row, 2 columns, 3 depth\n"
     ]
    }
   ],
   "source": [
    "print(*np.matrix(s.cpu())[None,:,:].shape)\n",
    "print(\"The above dimensions are 1 row, 2 columns, 3 depth\")"
   ]
  },
  {
   "cell_type": "code",
   "execution_count": 156,
   "metadata": {},
   "outputs": [
    {
     "data": {
      "text/plain": [
       "tensor([[11, 12, 13],\n",
       "        [24, 25, 26],\n",
       "        [37, 38, 39]], device='cuda:0')"
      ]
     },
     "execution_count": 156,
     "metadata": {},
     "output_type": "execute_result"
    }
   ],
   "source": [
    "a + w[:,None]"
   ]
  },
  {
   "cell_type": "markdown",
   "metadata": {},
   "source": [
    "# Rules for broadcasting.\n",
    "- When operating on two arrays or tensors, Numpy / PyTorch comapres their shapes **element wise in their dimensions.**\n",
    "- It starts with the **trailing dimensions** and goes forward checking.\n",
    "- What is trailing dimensions?\n",
    "- If an array is like (3,) and another is (256x256x3)\n",
    "- So pytorch and numpy compares like ->\n",
    "- 256 x 256 x **3 <-**\n",
    "- ......  x ...... **x 3 <-**\n",
    "- Means that the library starts from back to front, like compare **3 and 3,** then **256 and empty** , then **256 and empty**.\n",
    "- What are the rules?\n",
    "    - The rule 1 is that the dimensions must be equal.\n",
    "    - The rule 2 is that one of the dimensions are empty or 1.\n",
    "- <font size=4>**Even if one of the dimensions do not match they are not compatible**\n",
    "- The above given arrays are **compatible according to the given rules**"
   ]
  },
  {
   "cell_type": "markdown",
   "metadata": {},
   "source": [
    "# Matrix multiplication\n"
   ]
  },
  {
   "cell_type": "code",
   "execution_count": 196,
   "metadata": {},
   "outputs": [],
   "source": [
    "import torch as torch\n",
    "from torch.autograd import Variable"
   ]
  },
  {
   "cell_type": "code",
   "execution_count": 195,
   "metadata": {},
   "outputs": [
    {
     "data": {
      "text/plain": [
       "tensor([[-4.2072e-01, -1.5304e+00,  5.2927e-01,  5.6044e-01,  1.4821e+00,\n",
       "         -3.9634e-01,  1.3713e+00,  1.9432e+00, -1.2573e-01, -8.1190e-01],\n",
       "        [-8.4682e-01,  1.4117e+00, -4.2288e-01, -2.6754e-01, -1.4966e-01,\n",
       "          2.5317e-01, -2.1441e+00, -1.4753e+00, -3.0366e-01,  2.1197e-02],\n",
       "        [-9.7100e-01,  3.5143e-01,  5.7135e-02, -1.3533e+00,  2.1559e-01,\n",
       "          1.1832e+00,  2.0273e-02,  5.1995e-01, -6.6505e-02, -6.8103e-01],\n",
       "        [ 2.7609e+00, -1.6904e-01,  8.6487e-01, -1.4351e+00,  6.1356e-01,\n",
       "         -2.5427e-01, -9.6483e-01, -2.0081e+00, -4.5239e-03,  3.3980e-01],\n",
       "        [ 2.8570e+00, -1.8378e+00,  1.1352e+00, -2.1597e+00, -1.9335e-01,\n",
       "         -4.0519e-01, -2.5552e-01, -9.4426e-01,  1.0172e+00, -8.7593e-01],\n",
       "        [ 4.3885e-01,  1.4393e+00,  6.4761e-02,  1.1460e+00, -5.1106e-01,\n",
       "         -1.6344e+00,  4.4033e-01,  7.0116e-03,  2.1353e+00,  5.7783e-01],\n",
       "        [ 8.7857e-01, -9.5615e-01,  5.9148e-01,  9.6949e-01,  2.1768e-01,\n",
       "          8.7535e-01,  1.6069e-01,  3.7516e-01,  6.3815e-01, -7.8605e-01],\n",
       "        [-4.3190e-01, -1.0017e-01, -1.5186e-01,  3.3726e-01, -9.8643e-01,\n",
       "          8.3039e-01, -1.8925e+00, -5.9577e-01, -5.6144e-01, -4.9556e-01],\n",
       "        [-9.3871e-01,  8.9700e-01,  8.8764e-01, -3.5645e-01, -1.7079e+00,\n",
       "          8.1160e-01,  1.4082e-01, -7.2076e-01,  7.1545e-01, -9.4648e-03],\n",
       "        [-7.6216e-01,  1.6121e+00,  1.3243e-01, -7.8804e-01, -3.6132e-01,\n",
       "         -2.6858e+00, -4.6771e-02, -1.4508e+00,  2.6282e-05, -7.7026e-01]],\n",
       "       device='cuda:0')"
      ]
     },
     "execution_count": 195,
     "metadata": {},
     "output_type": "execute_result"
    }
   ],
   "source": [
    "a"
   ]
  },
  {
   "cell_type": "markdown",
   "metadata": {},
   "source": [
    "# Notice\n",
    "-<font size=5> a * c is the **element wise multiplication of the matrices**</font>"
   ]
  },
  {
   "cell_type": "code",
   "execution_count": 194,
   "metadata": {
    "scrolled": true
   },
   "outputs": [
    {
     "ename": "RuntimeError",
     "evalue": "The size of tensor a (10) must match the size of tensor b (3) at non-singleton dimension 1",
     "output_type": "error",
     "traceback": [
      "\u001b[1;31m---------------------------------------------------------------------------\u001b[0m",
      "\u001b[1;31mRuntimeError\u001b[0m                              Traceback (most recent call last)",
      "\u001b[1;32m<ipython-input-194-a0d9a766948b>\u001b[0m in \u001b[0;36m<module>\u001b[1;34m\u001b[0m\n\u001b[1;32m----> 1\u001b[1;33m \u001b[0mprint\u001b[0m\u001b[1;33m(\u001b[0m\u001b[0ma\u001b[0m\u001b[1;33m*\u001b[0m\u001b[0mc\u001b[0m\u001b[1;33m)\u001b[0m\u001b[1;33m\u001b[0m\u001b[1;33m\u001b[0m\u001b[0m\n\u001b[0m\u001b[0;32m      2\u001b[0m \u001b[0mprint\u001b[0m\u001b[1;33m(\u001b[0m\u001b[1;34m\"\\nWe can also do each row's sum to get the final result\\n\"\u001b[0m\u001b[1;33m)\u001b[0m\u001b[1;33m\u001b[0m\u001b[1;33m\u001b[0m\u001b[0m\n\u001b[0;32m      3\u001b[0m \u001b[0mprint\u001b[0m\u001b[1;33m(\u001b[0m\u001b[1;33m(\u001b[0m\u001b[0ma\u001b[0m\u001b[1;33m*\u001b[0m\u001b[0mc\u001b[0m\u001b[1;33m)\u001b[0m\u001b[1;33m.\u001b[0m\u001b[0msum\u001b[0m\u001b[1;33m(\u001b[0m\u001b[0maxis\u001b[0m\u001b[1;33m=\u001b[0m\u001b[1;36m1\u001b[0m\u001b[1;33m)\u001b[0m\u001b[1;33m)\u001b[0m\u001b[1;33m\u001b[0m\u001b[1;33m\u001b[0m\u001b[0m\n",
      "\u001b[1;31mRuntimeError\u001b[0m: The size of tensor a (10) must match the size of tensor b (3) at non-singleton dimension 1"
     ]
    }
   ],
   "source": [
    "print(a*c)\n",
    "print(\"\\nWe can also do each row's sum to get the final result\\n\")\n",
    "print((a*c).sum(axis=1))"
   ]
  },
  {
   "cell_type": "markdown",
   "metadata": {},
   "source": [
    "# This is the matrix multiplication\n",
    "\n",
    "- We can either use the **@ operator** as the matrix mutiplication operator or we can also use **torch.matmul()** which also does"
   ]
  },
  {
   "cell_type": "code",
   "execution_count": 199,
   "metadata": {},
   "outputs": [],
   "source": [
    "a = t([[1,2,3],[4,5,6],[7,8,9]]).cuda()\n",
    "c = t([10,20,30]).cuda()"
   ]
  },
  {
   "cell_type": "code",
   "execution_count": 200,
   "metadata": {},
   "outputs": [
    {
     "data": {
      "text/plain": [
       "tensor([140., 320., 500.], device='cuda:0')"
      ]
     },
     "execution_count": 200,
     "metadata": {},
     "output_type": "execute_result"
    }
   ],
   "source": [
    "torch.matmul(a.float(),c.float()).cuda()"
   ]
  },
  {
   "cell_type": "code",
   "execution_count": 201,
   "metadata": {},
   "outputs": [],
   "source": [
    "a = torch.randn(10,10).cuda()"
   ]
  },
  {
   "cell_type": "code",
   "execution_count": 202,
   "metadata": {},
   "outputs": [],
   "source": [
    "A = np.matrix(a.cpu())"
   ]
  },
  {
   "cell_type": "code",
   "execution_count": 203,
   "metadata": {},
   "outputs": [],
   "source": [
    "d = torch.randn(10,1).cuda()"
   ]
  },
  {
   "cell_type": "code",
   "execution_count": 204,
   "metadata": {},
   "outputs": [
    {
     "name": "stdout",
     "output_type": "stream",
     "text": [
      "torch.Size([1, 10, 1])\n"
     ]
    }
   ],
   "source": [
    "#d[:].shape\n",
    "print(d[None,:].shape)"
   ]
  },
  {
   "cell_type": "code",
   "execution_count": 205,
   "metadata": {},
   "outputs": [
    {
     "data": {
      "text/plain": [
       "tensor([[ 3.8484],\n",
       "        [-2.5718],\n",
       "        [ 2.4284],\n",
       "        [-1.9162],\n",
       "        [ 3.4583],\n",
       "        [-4.7154],\n",
       "        [-0.0712],\n",
       "        [ 2.3606],\n",
       "        [-3.3333],\n",
       "        [ 1.5689]], device='cuda:0')"
      ]
     },
     "execution_count": 205,
     "metadata": {},
     "output_type": "execute_result"
    }
   ],
   "source": [
    "a @ d"
   ]
  },
  {
   "cell_type": "code",
   "execution_count": 206,
   "metadata": {},
   "outputs": [
    {
     "name": "stdout",
     "output_type": "stream",
     "text": [
      "Matrix multiplication is :\n",
      "tensor([[ 3.8484],\n",
      "        [-2.5718],\n",
      "        [ 2.4284],\n",
      "        [-1.9162],\n",
      "        [ 3.4583],\n",
      "        [-4.7154],\n",
      "        [-0.0712],\n",
      "        [ 2.3606],\n",
      "        [-3.3333],\n",
      "        [ 1.5689]], device='cuda:0')\n"
     ]
    }
   ],
   "source": [
    "try:\n",
    "    a@d\n",
    "    print(\"Matrix multiplication is :\")\n",
    "    print(a @ d)\n",
    "except:\n",
    "    print(\"D can't be expanded as A. Lack of dimensions\")\n",
    "    #print(Variable(d))\n",
    "    #print(Variable(a))"
   ]
  },
  {
   "cell_type": "markdown",
   "metadata": {},
   "source": [
    "# Random image generation"
   ]
  },
  {
   "cell_type": "code",
   "execution_count": 237,
   "metadata": {},
   "outputs": [],
   "source": [
    "import matplotlib.pyplot as plt"
   ]
  },
  {
   "cell_type": "code",
   "execution_count": 264,
   "metadata": {},
   "outputs": [],
   "source": [
    "f = torch.randn((3,3))"
   ]
  },
  {
   "cell_type": "code",
   "execution_count": 265,
   "metadata": {},
   "outputs": [
    {
     "data": {
      "text/plain": [
       "tensor([[-0.6258, -0.5062, -1.2974],\n",
       "        [-1.6298,  1.2650,  0.1089],\n",
       "        [ 0.2978, -0.3915, -0.4489]])"
      ]
     },
     "execution_count": 265,
     "metadata": {},
     "output_type": "execute_result"
    }
   ],
   "source": [
    "f"
   ]
  },
  {
   "cell_type": "code",
   "execution_count": 268,
   "metadata": {
    "scrolled": true
   },
   "outputs": [
    {
     "data": {
      "text/plain": [
       "tensor(0.1089)"
      ]
     },
     "execution_count": 268,
     "metadata": {},
     "output_type": "execute_result"
    }
   ],
   "source": [
    "f[1][2]"
   ]
  },
  {
   "cell_type": "markdown",
   "metadata": {},
   "source": [
    "### New function discovered- tensor.flatten and array.flatten\n",
    "- Makes a high dimensional array or tensor into a single row tensor or row matrix"
   ]
  },
  {
   "cell_type": "code",
   "execution_count": 273,
   "metadata": {},
   "outputs": [
    {
     "data": {
      "text/plain": [
       "tensor([-0.6258, -0.5062, -1.2974, -1.6298,  1.2650,  0.1089,  0.2978, -0.3915,\n",
       "        -0.4489])"
      ]
     },
     "execution_count": 273,
     "metadata": {},
     "output_type": "execute_result"
    }
   ],
   "source": [
    "f.flatten()"
   ]
  },
  {
   "cell_type": "code",
   "execution_count": 249,
   "metadata": {},
   "outputs": [],
   "source": [
    "k = np.array(f)"
   ]
  },
  {
   "cell_type": "code",
   "execution_count": 270,
   "metadata": {},
   "outputs": [
    {
     "data": {
      "text/plain": [
       "<matplotlib.image.AxesImage at 0x17e354892c8>"
      ]
     },
     "execution_count": 270,
     "metadata": {},
     "output_type": "execute_result"
    },
    {
     "data": {
      "image/png": "[encoded data removed]",
      "text/plain": [
       "<Figure size 432x288 with 1 Axes>"
      ]
     },
     "metadata": {
      "needs_background": "light"
     },
     "output_type": "display_data"
    }
   ],
   "source": [
    "plt.imshow(np.array(k))"
   ]
  },
  {
   "cell_type": "code",
   "execution_count": 272,
   "metadata": {},
   "outputs": [
    {
     "data": {
      "text/plain": [
       "<matplotlib.axes._subplots.AxesSubplot at 0x17e33afcac8>"
      ]
     },
     "execution_count": 272,
     "metadata": {},
     "output_type": "execute_result"
    },
    {
     "data": {
      "image/png": "[encoded data removed]",
      "text/plain": [
       "<Figure size 432x288 with 1 Axes>"
      ]
     },
     "metadata": {
      "needs_background": "light"
     },
     "output_type": "display_data"
    }
   ],
   "source": [
    "sns.kdeplot(k.flatten())"
   ]
  },
  {
   "cell_type": "code",
   "execution_count": null,
   "metadata": {},
   "outputs": [],
   "source": []
  }
 ],
 "metadata": {
  "kernelspec": {
   "display_name": "Python 3",
   "language": "python",
   "name": "python3"
  },
  "language_info": {
   "codemirror_mode": {
    "name": "ipython",
    "version": 3
   },
   "file_extension": ".py",
   "mimetype": "text/x-python",
   "name": "python",
   "nbconvert_exporter": "python",
   "pygments_lexer": "ipython3",
   "version": "3.7.4"
  },
  "varInspector": {
   "cols": {
    "lenName": 16,
    "lenType": 16,
    "lenVar": 40
   },
   "kernels_config": {
    "python": {
     "delete_cmd_postfix": "",
     "delete_cmd_prefix": "del ",
     "library": "var_list.py",
     "varRefreshCmd": "print(var_dic_list())"
    },
    "r": {
     "delete_cmd_postfix": ") ",
     "delete_cmd_prefix": "rm(",
     "library": "var_list.r",
     "varRefreshCmd": "cat(var_dic_list()) "
    }
   },
   "types_to_exclude": [
    "module",
    "function",
    "builtin_function_or_method",
    "instance",
    "_Feature"
   ],
   "window_display": false
  }
 },
 "nbformat": 4,
 "nbformat_minor": 2
}
